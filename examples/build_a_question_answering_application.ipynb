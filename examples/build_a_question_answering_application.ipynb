{
 "cells": [
  {
   "cell_type": "code",
   "execution_count": 1,
   "id": "4b66b84b",
   "metadata": {},
   "outputs": [
    {
     "name": "stdout",
     "output_type": "stream",
     "text": [
      "\n",
      "\u001b[1m[\u001b[0m\u001b[34;49mnotice\u001b[0m\u001b[1;39;49m]\u001b[0m\u001b[39;49m A new release of pip is available: \u001b[0m\u001b[31;49m25.1.1\u001b[0m\u001b[39;49m -> \u001b[0m\u001b[32;49m25.2\u001b[0m\n",
      "\u001b[1m[\u001b[0m\u001b[34;49mnotice\u001b[0m\u001b[1;39;49m]\u001b[0m\u001b[39;49m To update, run: \u001b[0m\u001b[32;49mpip3 install --upgrade pip\u001b[0m\n",
      "Note: you may need to restart the kernel to use updated packages.\n"
     ]
    }
   ],
   "source": [
    "%pip install --upgrade --quiet langchain langchain-neo4j langchain-openai langgraph"
   ]
  },
  {
   "cell_type": "code",
   "execution_count": 2,
   "id": "840a1a65",
   "metadata": {},
   "outputs": [],
   "source": [
    "import getpass\n",
    "import os\n",
    "from dotenv import load_dotenv\n",
    "\n",
    "load_dotenv(\"/Users/mac/Documents/PHUNGPX/knowledge_graph_searching/.env\")\n",
    "\n",
    "if \"OPENAI_API_KEY\" not in os.environ:\n",
    "    os.environ[\"OPENAI_API_KEY\"] = getpass.getpass(\"Enter your OpenAI API key: \")"
   ]
  },
  {
   "cell_type": "code",
   "execution_count": 3,
   "id": "4eebbea5",
   "metadata": {},
   "outputs": [],
   "source": [
    "neo4j_uri = os.getenv(\"NEO4J_URI\")\n",
    "neo4j_username = os.getenv(\"NEO4J_USERNAME\")\n",
    "neo4j_password = os.getenv(\"NEO4J_PASSWORD\")"
   ]
  },
  {
   "cell_type": "code",
   "execution_count": 7,
   "id": "d7c3ae62",
   "metadata": {},
   "outputs": [
    {
     "data": {
      "text/plain": [
       "[]"
      ]
     },
     "execution_count": 7,
     "metadata": {},
     "output_type": "execute_result"
    }
   ],
   "source": [
    "from langchain_neo4j import Neo4jGraph\n",
    "\n",
    "graph = Neo4jGraph(\n",
    "    url=neo4j_uri,\n",
    "    username=neo4j_username,\n",
    "    password=neo4j_password,\n",
    ")\n",
    "\n",
    "movies_query = \"\"\"\n",
    "LOAD CSV WITH HEADERS FROM \n",
    "'https://raw.githubusercontent.com/tomasonjo/blog-datasets/main/movies/movies_small.csv'\n",
    "AS row\n",
    "MERGE (m:Movie {id:row.movieId})\n",
    "SET m.released = date(row.released),\n",
    "    m.title = row.title,\n",
    "    m.imdbRating = toFloat(row.imdbRating)\n",
    "FOREACH (director in split(row.director, '|') | \n",
    "    MERGE (p:Person {name:trim(director)})\n",
    "    MERGE (p)-[:DIRECTED]->(m))\n",
    "FOREACH (actor in split(row.actors, '|') | \n",
    "    MERGE (p:Person {name:trim(actor)})\n",
    "    MERGE (p)-[:ACTED_IN]->(m))\n",
    "FOREACH (genre in split(row.genres, '|') | \n",
    "    MERGE (g:Genre {name:trim(genre)})\n",
    "    MERGE (m)-[:IN_GENRE]->(g))\n",
    "\"\"\"\n",
    "\n",
    "graph.query(movies_query)"
   ]
  },
  {
   "cell_type": "markdown",
   "id": "4d09ce10",
   "metadata": {},
   "source": [
    "## Graph schema"
   ]
  },
  {
   "cell_type": "code",
   "execution_count": 12,
   "id": "80e6d51d",
   "metadata": {},
   "outputs": [
    {
     "name": "stdout",
     "output_type": "stream",
     "text": [
      "Node properties:\n",
      "Article {id: STRING}\n",
      "Disease {id: STRING}\n",
      "Crop {id: STRING}\n",
      "Pathogen {id: STRING}\n",
      "Symptom {id: STRING}\n",
      "Variety {id: STRING}\n",
      "Riskfactor {id: STRING}\n",
      "Spreadmethod {id: STRING}\n",
      "Seasonality {id: STRING}\n",
      "Location {id: STRING}\n",
      "Treatment {id: STRING}\n",
      "Prevention {id: STRING}\n",
      "Relationship properties:\n",
      "\n",
      "The relationships:\n",
      "(:Disease)-[:HAS_SYMPTOM]->(:Symptom)\n",
      "(:Disease)-[:CAUSED_BY]->(:Pathogen)\n",
      "(:Disease)-[:RISK_FACTOR]->(:Riskfactor)\n",
      "(:Disease)-[:SPREADS_VIA]->(:Spreadmethod)\n",
      "(:Disease)-[:PEAKS_DURING]->(:Seasonality)\n",
      "(:Disease)-[:OCCURS_IN]->(:Location)\n",
      "(:Disease)-[:MANAGED_BY]->(:Treatment)\n",
      "(:Disease)-[:PREVENTED_BY]->(:Prevention)\n",
      "(:Disease)-[:DOCUMENTED_IN]->(:Article)\n",
      "(:Crop)-[:AFFECTED_BY]->(:Disease)\n",
      "(:Variety)-[:SUSCEPTIBLE_TO]->(:Disease)\n"
     ]
    }
   ],
   "source": [
    "graph.refresh_schema()\n",
    "print(graph.schema)"
   ]
  },
  {
   "cell_type": "code",
   "execution_count": 14,
   "id": "c4c79fe1",
   "metadata": {},
   "outputs": [
    {
     "name": "stdout",
     "output_type": "stream",
     "text": [
      "Node properties:\n",
      "- **Article**\n",
      "  - `id`: STRING Available options: ['Lim & Sangchote (2003)', 'Zeng Et Al. (2022)', 'Thailand’S Department Of Agriculture', 'Udayanga Et Al. (2012)', 'Vietnam’S Plant Protection Department (2023)']\n",
      "- **Disease**\n",
      "  - `id`: STRING Available options: ['Phomopsis Leaf Blight', 'Phomopsis Leaf Spot', 'Phomopsis Dieback']\n",
      "- **Crop**\n",
      "  - `id`: STRING Available options: ['Durian']\n",
      "- **Pathogen**\n",
      "  - `id`: STRING Available options: ['Phomopsis Durionis Syd. & P. Syd.', 'Diaporthe Sp.']\n",
      "- **Symptom**\n",
      "  - `id`: STRING Example: \"Small, Water-Soaked Lesions\"\n",
      "- **Variety**\n",
      "  - `id`: STRING Available options: ['D24', 'D99', 'Chanee', 'Monthong', 'Ri6', 'Musang King (D197)']\n",
      "- **Riskfactor**\n",
      "  - `id`: STRING Available options: ['High Humidity Above 85%', 'Prolonged Leaf Wetness', 'Canopy Density', 'Poor Orchard Sanitation', 'Unbalanced Fertilization', 'Plant Stress']\n",
      "- **Spreadmethod**\n",
      "  - `id`: STRING Available options: ['Rain Splash', 'Wind-Driven Rain', 'Contaminated Tools', 'Infected Planting Material', 'Survival Of The Fungus In Debris And Cankers']\n",
      "- **Seasonality**\n",
      "  - `id`: STRING Available options: ['Rainy Season']\n",
      "- **Location**\n",
      "  - `id`: STRING Available options: ['Thailand', 'Vietnam', 'Malaysia', 'Philippines', 'Indonesia']\n",
      "- **Treatment**\n",
      "  - `id`: STRING Available options: ['Chemical Fungicides', 'Biological Controls', 'Cultural Practices']\n",
      "- **Prevention**\n",
      "  - `id`: STRING Available options: ['Preventive Orchard Monitoring And Sanitation']\n",
      "Relationship properties:\n",
      "\n",
      "The relationships:\n",
      "(:Disease)-[:HAS_SYMPTOM]->(:Symptom)\n",
      "(:Disease)-[:CAUSED_BY]->(:Pathogen)\n",
      "(:Disease)-[:RISK_FACTOR]->(:Riskfactor)\n",
      "(:Disease)-[:SPREADS_VIA]->(:Spreadmethod)\n",
      "(:Disease)-[:PEAKS_DURING]->(:Seasonality)\n",
      "(:Disease)-[:OCCURS_IN]->(:Location)\n",
      "(:Disease)-[:MANAGED_BY]->(:Treatment)\n",
      "(:Disease)-[:PREVENTED_BY]->(:Prevention)\n",
      "(:Disease)-[:DOCUMENTED_IN]->(:Article)\n",
      "(:Crop)-[:AFFECTED_BY]->(:Disease)\n",
      "(:Variety)-[:SUSCEPTIBLE_TO]->(:Disease)\n"
     ]
    }
   ],
   "source": [
    "enhanced_graph = Neo4jGraph(enhanced_schema=True)\n",
    "print(enhanced_graph.schema)"
   ]
  },
  {
   "cell_type": "code",
   "execution_count": 15,
   "id": "fc7ed0ad",
   "metadata": {},
   "outputs": [
    {
     "name": "stdout",
     "output_type": "stream",
     "text": [
      "\n",
      "\n",
      "\u001b[1m> Entering new GraphCypherQAChain chain...\u001b[0m\n",
      "Generated Cypher:\n",
      "\u001b[32;1m\u001b[1;3mcypher\n",
      "MATCH (d:Disease {id: 'Phomopsis Leaf Blight'})-[:HAS_SYMPTOM]->(s:Symptom)\n",
      "RETURN s.id\n",
      "\u001b[0m\n",
      "Full Context:\n",
      "\u001b[32;1m\u001b[1;3m[{'s.id': 'Diminished Fruit Yield And Quality'}, {'s.id': 'Yellowish-Brown Or Greyish-Brown Necrotic Spots'}, {'s.id': 'Dark Or Purplish Borders'}, {'s.id': 'Reduced Photosynthesis'}, {'s.id': 'Cankers'}, {'s.id': 'Weakened Trees'}, {'s.id': 'Dieback Of Shoots'}, {'s.id': 'Yellow Halos'}, {'s.id': 'Blighted Patches'}, {'s.id': 'Small, Water-Soaked Lesions'}]\u001b[0m\n",
      "\n",
      "\u001b[1m> Finished chain.\u001b[0m\n"
     ]
    },
    {
     "data": {
      "text/plain": [
       "{'query': 'The symptoms of Phomopsis Leaf Blight?',\n",
       " 'result': 'Diminished fruit yield and quality, yellowish-brown or greyish-brown necrotic spots, dark or purplish borders, reduced photosynthesis, cankers, weakened trees, dieback of shoots, yellow halos, blighted patches, and small, water-soaked lesions are symptoms of Phomopsis Leaf Blight.'}"
      ]
     },
     "execution_count": 15,
     "metadata": {},
     "output_type": "execute_result"
    }
   ],
   "source": [
    "from langchain_neo4j import GraphCypherQAChain\n",
    "from langchain_openai import ChatOpenAI\n",
    "\n",
    "llm = ChatOpenAI(model=\"gpt-4o\", temperature=0)\n",
    "chain = GraphCypherQAChain.from_llm(\n",
    "    graph=enhanced_graph, llm=llm, verbose=True, allow_dangerous_requests=True\n",
    ")\n",
    "response = chain.invoke({\"query\": \"The symptoms of Phomopsis Leaf Blight?\"})\n",
    "response"
   ]
  },
  {
   "cell_type": "code",
   "execution_count": 16,
   "id": "c19d08cf",
   "metadata": {},
   "outputs": [
    {
     "name": "stdout",
     "output_type": "stream",
     "text": [
      "\n",
      "\n",
      "\u001b[1m> Entering new GraphCypherQAChain chain...\u001b[0m\n",
      "Generated Cypher:\n",
      "\u001b[32;1m\u001b[1;3mcypher\n",
      "MATCH (d:Disease {id: 'Phomopsis Leaf Blight'})-[:CAUSED_BY]->(p:Pathogen)\n",
      "RETURN p.id\n",
      "\u001b[0m\n",
      "Full Context:\n",
      "\u001b[32;1m\u001b[1;3m[{'p.id': 'Phomopsis Durionis Syd. & P. Syd.'}, {'p.id': 'Diaporthe Sp.'}]\u001b[0m\n",
      "\n",
      "\u001b[1m> Finished chain.\u001b[0m\n"
     ]
    },
    {
     "data": {
      "text/plain": [
       "{'query': 'Phomopsis Leaf Blight caused by?',\n",
       " 'result': 'Phomopsis Leaf Blight is caused by Phomopsis Durionis Syd. & P. Syd. and Diaporthe Sp.'}"
      ]
     },
     "execution_count": 16,
     "metadata": {},
     "output_type": "execute_result"
    }
   ],
   "source": [
    "response = chain.invoke({\"query\": \"Phomopsis Leaf Blight caused by?\"})\n",
    "response"
   ]
  },
  {
   "cell_type": "code",
   "execution_count": null,
   "id": "41e66b18",
   "metadata": {},
   "outputs": [],
   "source": []
  }
 ],
 "metadata": {
  "kernelspec": {
   "display_name": ".venv",
   "language": "python",
   "name": "python3"
  },
  "language_info": {
   "codemirror_mode": {
    "name": "ipython",
    "version": 3
   },
   "file_extension": ".py",
   "mimetype": "text/x-python",
   "name": "python",
   "nbconvert_exporter": "python",
   "pygments_lexer": "ipython3",
   "version": "3.13.5"
  }
 },
 "nbformat": 4,
 "nbformat_minor": 5
}
