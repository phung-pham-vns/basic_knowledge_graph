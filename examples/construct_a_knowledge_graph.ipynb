{
 "cells": [
  {
   "cell_type": "code",
   "execution_count": 1,
   "id": "9e63f462",
   "metadata": {},
   "outputs": [
    {
     "name": "stdout",
     "output_type": "stream",
     "text": [
      "\n",
      "\u001b[1m[\u001b[0m\u001b[34;49mnotice\u001b[0m\u001b[1;39;49m]\u001b[0m\u001b[39;49m A new release of pip is available: \u001b[0m\u001b[31;49m25.1.1\u001b[0m\u001b[39;49m -> \u001b[0m\u001b[32;49m25.2\u001b[0m\n",
      "\u001b[1m[\u001b[0m\u001b[34;49mnotice\u001b[0m\u001b[1;39;49m]\u001b[0m\u001b[39;49m To update, run: \u001b[0m\u001b[32;49mpip3 install --upgrade pip\u001b[0m\n",
      "Note: you may need to restart the kernel to use updated packages.\n"
     ]
    }
   ],
   "source": [
    "%pip install --upgrade --quiet  langchain langchain-neo4j langchain-openai langchain-experimental neo4j"
   ]
  },
  {
   "cell_type": "code",
   "execution_count": 2,
   "id": "21078678",
   "metadata": {},
   "outputs": [],
   "source": [
    "import getpass\n",
    "import os\n",
    "from dotenv import load_dotenv\n",
    "\n",
    "load_dotenv(\"/Users/mac/Documents/PHUNGPX/knowledge_graph_searching/.env\")\n",
    "\n",
    "if \"OPENAI_API_KEY\" not in os.environ:\n",
    "    os.environ[\"OPENAI_API_KEY\"] = getpass.getpass(\"Enter your OpenAI API key: \")"
   ]
  },
  {
   "cell_type": "code",
   "execution_count": 3,
   "id": "ef184a9c",
   "metadata": {},
   "outputs": [],
   "source": [
    "neo4j_uri = os.getenv(\"NEO4J_URI\")\n",
    "neo4j_username = os.getenv(\"NEO4J_USERNAME\")\n",
    "neo4j_password = os.getenv(\"NEO4J_PASSWORD\")"
   ]
  },
  {
   "cell_type": "code",
   "execution_count": 4,
   "id": "24023b2d",
   "metadata": {},
   "outputs": [],
   "source": [
    "from langchain_neo4j import Neo4jGraph\n",
    "\n",
    "graph = Neo4jGraph(\n",
    "    url=neo4j_uri,\n",
    "    username=neo4j_username,\n",
    "    password=neo4j_password,\n",
    ")"
   ]
  },
  {
   "cell_type": "code",
   "execution_count": 5,
   "id": "df623609",
   "metadata": {},
   "outputs": [],
   "source": [
    "from langchain_experimental.graph_transformers import LLMGraphTransformer\n",
    "from langchain_openai import ChatOpenAI\n",
    "\n",
    "llm = ChatOpenAI(temperature=0, model_name=\"gpt-4o\")\n",
    "llm_transformer = LLMGraphTransformer(llm=llm)"
   ]
  },
  {
   "cell_type": "code",
   "execution_count": 9,
   "id": "bcb5fe2d",
   "metadata": {},
   "outputs": [
    {
     "name": "stdout",
     "output_type": "stream",
     "text": [
      "Nodes (32):[Node(id='Phomopsis Leaf Blight', type='Disease', properties={}), Node(id='Phomopsis Leaf Spot', type='Disease', properties={}), Node(id='Phomopsis Dieback', type='Disease', properties={}), Node(id='Phomopsis Durionis Syd. & P. Syd.', type='Fungus', properties={}), Node(id='Diaporthe Sp.', type='Fungus', properties={}), Node(id='Durian Trees', type='Plant', properties={}), Node(id='Vietnam', type='Location', properties={}), Node(id='Thailand', type='Location', properties={}), Node(id='D24', type='Plant', properties={}), Node(id='D99', type='Plant', properties={}), Node(id='Chanee', type='Plant', properties={}), Node(id='Monthong', type='Plant', properties={}), Node(id='Ri6', type='Plant', properties={}), Node(id='Musang King (D197)', type='Plant', properties={}), Node(id='Southeast Asia', type='Location', properties={}), Node(id='Malaysia', type='Location', properties={}), Node(id='Philippines', type='Location', properties={}), Node(id='Indonesia', type='Location', properties={}), Node(id='Mancozeb', type='Chemical', properties={}), Node(id='Chlorothalonil', type='Chemical', properties={}), Node(id='Copper Compounds', type='Chemical', properties={}), Node(id='Propiconazole', type='Chemical', properties={}), Node(id='Difenoconazole', type='Chemical', properties={}), Node(id='Tebuconazole', type='Chemical', properties={}), Node(id='Azoxystrobin', type='Chemical', properties={}), Node(id='Trichoderma Spp.', type='Biological control', properties={}), Node(id='Bacillus Subtilis', type='Biological control', properties={}), Node(id='Lim & Sangchote (2003)', type='Reference', properties={}), Node(id='Zeng Et Al. (2022)', type='Reference', properties={}), Node(id='Thailand’S Department Of Agriculture', type='Organization', properties={}), Node(id='Udayanga Et Al. (2012)', type='Reference', properties={}), Node(id='Vietnam’S Plant Protection Department (2023)', type='Organization', properties={})]\n",
      "Relationships (31):[Relationship(source=Node(id='Phomopsis Leaf Blight', type='Disease', properties={}), target=Node(id='Phomopsis Leaf Spot', type='Disease', properties={}), type='ALSO_KNOWN_AS', properties={}), Relationship(source=Node(id='Phomopsis Leaf Blight', type='Disease', properties={}), target=Node(id='Phomopsis Dieback', type='Disease', properties={}), type='ALSO_KNOWN_AS', properties={}), Relationship(source=Node(id='Phomopsis Leaf Blight', type='Disease', properties={}), target=Node(id='Phomopsis Durionis Syd. & P. Syd.', type='Fungus', properties={}), type='CAUSED_BY', properties={}), Relationship(source=Node(id='Phomopsis Durionis Syd. & P. Syd.', type='Fungus', properties={}), target=Node(id='Diaporthe Sp.', type='Fungus', properties={}), type='TELEOMORPH', properties={}), Relationship(source=Node(id='Phomopsis Leaf Blight', type='Disease', properties={}), target=Node(id='Durian Trees', type='Plant', properties={}), type='AFFECTS', properties={}), Relationship(source=Node(id='Phomopsis Leaf Blight', type='Disease', properties={}), target=Node(id='Vietnam', type='Location', properties={}), type='RECOGNIZED_IN', properties={}), Relationship(source=Node(id='Phomopsis Leaf Blight', type='Disease', properties={}), target=Node(id='Thailand', type='Location', properties={}), type='RECOGNIZED_IN', properties={}), Relationship(source=Node(id='Phomopsis Leaf Blight', type='Disease', properties={}), target=Node(id='D24', type='Plant', properties={}), type='SUSCEPTIBLE_CULTIVAR', properties={}), Relationship(source=Node(id='Phomopsis Leaf Blight', type='Disease', properties={}), target=Node(id='D99', type='Plant', properties={}), type='SUSCEPTIBLE_CULTIVAR', properties={}), Relationship(source=Node(id='Phomopsis Leaf Blight', type='Disease', properties={}), target=Node(id='Chanee', type='Plant', properties={}), type='SUSCEPTIBLE_CULTIVAR', properties={}), Relationship(source=Node(id='Phomopsis Leaf Blight', type='Disease', properties={}), target=Node(id='Monthong', type='Plant', properties={}), type='MODERATE_SUSCEPTIBILITY', properties={}), Relationship(source=Node(id='Phomopsis Leaf Blight', type='Disease', properties={}), target=Node(id='Ri6', type='Plant', properties={}), type='MODERATE_SUSCEPTIBILITY', properties={}), Relationship(source=Node(id='Phomopsis Leaf Blight', type='Disease', properties={}), target=Node(id='Musang King (D197)', type='Plant', properties={}), type='TOLERANCE', properties={}), Relationship(source=Node(id='Phomopsis Leaf Blight', type='Disease', properties={}), target=Node(id='Southeast Asia', type='Location', properties={}), type='PREVALENT_IN', properties={}), Relationship(source=Node(id='Phomopsis Leaf Blight', type='Disease', properties={}), target=Node(id='Malaysia', type='Location', properties={}), type='PREVALENT_IN', properties={}), Relationship(source=Node(id='Phomopsis Leaf Blight', type='Disease', properties={}), target=Node(id='Philippines', type='Location', properties={}), type='PREVALENT_IN', properties={}), Relationship(source=Node(id='Phomopsis Leaf Blight', type='Disease', properties={}), target=Node(id='Indonesia', type='Location', properties={}), type='PREVALENT_IN', properties={}), Relationship(source=Node(id='Phomopsis Leaf Blight', type='Disease', properties={}), target=Node(id='Mancozeb', type='Chemical', properties={}), type='MANAGED_BY', properties={}), Relationship(source=Node(id='Phomopsis Leaf Blight', type='Disease', properties={}), target=Node(id='Chlorothalonil', type='Chemical', properties={}), type='MANAGED_BY', properties={}), Relationship(source=Node(id='Phomopsis Leaf Blight', type='Disease', properties={}), target=Node(id='Copper Compounds', type='Chemical', properties={}), type='MANAGED_BY', properties={}), Relationship(source=Node(id='Phomopsis Leaf Blight', type='Disease', properties={}), target=Node(id='Propiconazole', type='Chemical', properties={}), type='MANAGED_BY', properties={}), Relationship(source=Node(id='Phomopsis Leaf Blight', type='Disease', properties={}), target=Node(id='Difenoconazole', type='Chemical', properties={}), type='MANAGED_BY', properties={}), Relationship(source=Node(id='Phomopsis Leaf Blight', type='Disease', properties={}), target=Node(id='Tebuconazole', type='Chemical', properties={}), type='MANAGED_BY', properties={}), Relationship(source=Node(id='Phomopsis Leaf Blight', type='Disease', properties={}), target=Node(id='Azoxystrobin', type='Chemical', properties={}), type='MANAGED_BY', properties={}), Relationship(source=Node(id='Phomopsis Leaf Blight', type='Disease', properties={}), target=Node(id='Trichoderma Spp.', type='Biological control', properties={}), type='MANAGED_BY', properties={}), Relationship(source=Node(id='Phomopsis Leaf Blight', type='Disease', properties={}), target=Node(id='Bacillus Subtilis', type='Biological control', properties={}), type='MANAGED_BY', properties={}), Relationship(source=Node(id='Phomopsis Leaf Blight', type='Disease', properties={}), target=Node(id='Lim & Sangchote (2003)', type='Reference', properties={}), type='REFERENCED_IN', properties={}), Relationship(source=Node(id='Phomopsis Leaf Blight', type='Disease', properties={}), target=Node(id='Zeng Et Al. (2022)', type='Reference', properties={}), type='REFERENCED_IN', properties={}), Relationship(source=Node(id='Phomopsis Leaf Blight', type='Disease', properties={}), target=Node(id='Thailand’S Department Of Agriculture', type='Organization', properties={}), type='REFERENCED_IN', properties={}), Relationship(source=Node(id='Phomopsis Leaf Blight', type='Disease', properties={}), target=Node(id='Udayanga Et Al. (2012)', type='Reference', properties={}), type='REFERENCED_IN', properties={}), Relationship(source=Node(id='Phomopsis Leaf Blight', type='Disease', properties={}), target=Node(id='Vietnam’S Plant Protection Department (2023)', type='Organization', properties={}), type='REFERENCED_IN', properties={})]\n"
     ]
    }
   ],
   "source": [
    "from langchain_core.documents import Document\n",
    "\n",
    "text = \"\"\"\n",
    "Phomopsis Leaf Blight, also known as Phomopsis Leaf Spot or Phomopsis Dieback, is a fungal disease of durian trees caused by Phomopsis durionis Syd. & P. Syd. (teleomorph Diaporthe sp.), confirmed through both morphological and molecular methods. It is recognized in Vietnam as “Bệnh đốm lá Phomopsis” or “Bệnh cháy lá Phomopsis,” and in Thailand as “โรคใบจุดโฟมอปซิส (Rok bai jut Phomopsis).” The disease appears first as small, water-soaked lesions on young or mature leaves, which enlarge into yellowish-brown or greyish-brown necrotic spots with dark or purplish borders, often surrounded by yellow halos. Over time, these lesions merge, causing blighted patches, defoliation, and reduced photosynthesis. Black, flask-shaped fungal fruiting bodies (pycnidia) develop in older lesions, releasing spores that spread the disease. The fungus also infects young twigs, causing cankers and dieback of shoots, which stunts tree growth. Severe infections weaken trees, reduce vigor, and diminish fruit yield and quality. Susceptible cultivars include D24, D99, and Chanee, while Monthong and Ri6 show moderate susceptibility, and Musang King (D197) exhibits somewhat greater tolerance. Favorable conditions for disease development include high humidity above 85%, prolonged leaf wetness from rain or irrigation, canopy density, poor orchard sanitation, unbalanced fertilization (especially excessive nitrogen), and plant stress. The disease spreads primarily via rain splash, wind-driven rain, contaminated tools, infected planting material, and survival of the fungus in debris and cankers. It is most severe during the rainy season, particularly when new leaf flushes occur, as young tissues are highly susceptible. The disease is prevalent across Southeast Asia, including Thailand, Vietnam, Malaysia, the Philippines, and Indonesia. Management involves an integrated approach: chemical fungicides (e.g., mancozeb, chlorothalonil, copper compounds, propiconazole, difenoconazole, tebuconazole, azoxystrobin) applied preventively and rotated to avoid resistance; biological controls such as Trichoderma spp. and Bacillus subtilis; and cultural practices like pruning for canopy ventilation, removing infected debris, improving drainage, using drip irrigation, balancing fertilization, sterilizing tools, and ensuring disease-free planting material. Preventive orchard monitoring and sanitation remain the most effective strategies. Key references include works by Lim & Sangchote (2003), Zeng et al. (2022), Thailand’s Department of Agriculture, Udayanga et al. (2012), and Vietnam’s Plant Protection Department (2023).\n",
    "\"\"\"\n",
    "\n",
    "documents = [\n",
    "    Document(page_content=text)\n",
    "]\n",
    "graph_documents = await llm_transformer.aconvert_to_graph_documents(documents)\n",
    "\n",
    "print(f\"Nodes ({len(graph_documents[0].nodes)}):{graph_documents[0].nodes}\")\n",
    "print(f\"Relationships ({len(graph_documents[0].relationships)}):{graph_documents[0].relationships}\")"
   ]
  },
  {
   "cell_type": "code",
   "execution_count": 10,
   "id": "6c1e4782",
   "metadata": {},
   "outputs": [
    {
     "name": "stdout",
     "output_type": "stream",
     "text": [
      "id='Phomopsis Leaf Blight' type='Disease' properties={}\n",
      "id='Phomopsis Leaf Spot' type='Disease' properties={}\n",
      "id='Phomopsis Dieback' type='Disease' properties={}\n",
      "id='Phomopsis Durionis Syd. & P. Syd.' type='Fungus' properties={}\n",
      "id='Diaporthe Sp.' type='Fungus' properties={}\n",
      "id='Durian Trees' type='Plant' properties={}\n",
      "id='Vietnam' type='Location' properties={}\n",
      "id='Thailand' type='Location' properties={}\n",
      "id='D24' type='Plant' properties={}\n",
      "id='D99' type='Plant' properties={}\n",
      "id='Chanee' type='Plant' properties={}\n",
      "id='Monthong' type='Plant' properties={}\n",
      "id='Ri6' type='Plant' properties={}\n",
      "id='Musang King (D197)' type='Plant' properties={}\n",
      "id='Southeast Asia' type='Location' properties={}\n",
      "id='Malaysia' type='Location' properties={}\n",
      "id='Philippines' type='Location' properties={}\n",
      "id='Indonesia' type='Location' properties={}\n",
      "id='Mancozeb' type='Chemical' properties={}\n",
      "id='Chlorothalonil' type='Chemical' properties={}\n",
      "id='Copper Compounds' type='Chemical' properties={}\n",
      "id='Propiconazole' type='Chemical' properties={}\n",
      "id='Difenoconazole' type='Chemical' properties={}\n",
      "id='Tebuconazole' type='Chemical' properties={}\n",
      "id='Azoxystrobin' type='Chemical' properties={}\n",
      "id='Trichoderma Spp.' type='Biological control' properties={}\n",
      "id='Bacillus Subtilis' type='Biological control' properties={}\n",
      "id='Lim & Sangchote (2003)' type='Reference' properties={}\n",
      "id='Zeng Et Al. (2022)' type='Reference' properties={}\n",
      "id='Thailand’S Department Of Agriculture' type='Organization' properties={}\n",
      "id='Udayanga Et Al. (2012)' type='Reference' properties={}\n",
      "id='Vietnam’S Plant Protection Department (2023)' type='Organization' properties={}\n"
     ]
    }
   ],
   "source": [
    "for node in graph_documents[0].nodes:\n",
    "    print(node)"
   ]
  },
  {
   "cell_type": "code",
   "execution_count": null,
   "id": "9d354634",
   "metadata": {},
   "outputs": [
    {
     "name": "stdout",
     "output_type": "stream",
     "text": [
      "Nodes (32):[Node(id='Phomopsis Leaf Blight', type='Disease', properties={}), Node(id='Phomopsis Leaf Spot', type='Disease', properties={}), Node(id='Phomopsis Dieback', type='Disease', properties={}), Node(id='Phomopsis Durionis Syd. & P. Syd.', type='Fungus', properties={}), Node(id='Diaporthe Sp.', type='Fungus', properties={}), Node(id='Durian Trees', type='Plant', properties={}), Node(id='Vietnam', type='Location', properties={}), Node(id='Thailand', type='Location', properties={}), Node(id='D24', type='Plant', properties={}), Node(id='D99', type='Plant', properties={}), Node(id='Chanee', type='Plant', properties={}), Node(id='Monthong', type='Plant', properties={}), Node(id='Ri6', type='Plant', properties={}), Node(id='Musang King (D197)', type='Plant', properties={}), Node(id='Southeast Asia', type='Location', properties={}), Node(id='Malaysia', type='Location', properties={}), Node(id='Philippines', type='Location', properties={}), Node(id='Indonesia', type='Location', properties={}), Node(id='Mancozeb', type='Chemical', properties={}), Node(id='Chlorothalonil', type='Chemical', properties={}), Node(id='Copper Compounds', type='Chemical', properties={}), Node(id='Propiconazole', type='Chemical', properties={}), Node(id='Difenoconazole', type='Chemical', properties={}), Node(id='Tebuconazole', type='Chemical', properties={}), Node(id='Azoxystrobin', type='Chemical', properties={}), Node(id='Trichoderma Spp.', type='Biological control', properties={}), Node(id='Bacillus Subtilis', type='Biological control', properties={}), Node(id='Lim & Sangchote (2003)', type='Reference', properties={}), Node(id='Zeng Et Al. (2022)', type='Reference', properties={}), Node(id='Thailand’S Department Of Agriculture', type='Organization', properties={}), Node(id='Udayanga Et Al. (2012)', type='Reference', properties={}), Node(id='Vietnam’S Plant Protection Department (2023)', type='Organization', properties={})]\n",
      "Relationships (31):[Relationship(source=Node(id='Phomopsis Leaf Blight', type='Disease', properties={}), target=Node(id='Phomopsis Leaf Spot', type='Disease', properties={}), type='ALSO_KNOWN_AS', properties={}), Relationship(source=Node(id='Phomopsis Leaf Blight', type='Disease', properties={}), target=Node(id='Phomopsis Dieback', type='Disease', properties={}), type='ALSO_KNOWN_AS', properties={}), Relationship(source=Node(id='Phomopsis Leaf Blight', type='Disease', properties={}), target=Node(id='Phomopsis Durionis Syd. & P. Syd.', type='Fungus', properties={}), type='CAUSED_BY', properties={}), Relationship(source=Node(id='Phomopsis Durionis Syd. & P. Syd.', type='Fungus', properties={}), target=Node(id='Diaporthe Sp.', type='Fungus', properties={}), type='TELEOMORPH', properties={}), Relationship(source=Node(id='Phomopsis Leaf Blight', type='Disease', properties={}), target=Node(id='Durian Trees', type='Plant', properties={}), type='AFFECTS', properties={}), Relationship(source=Node(id='Phomopsis Leaf Blight', type='Disease', properties={}), target=Node(id='Vietnam', type='Location', properties={}), type='RECOGNIZED_IN', properties={}), Relationship(source=Node(id='Phomopsis Leaf Blight', type='Disease', properties={}), target=Node(id='Thailand', type='Location', properties={}), type='RECOGNIZED_IN', properties={}), Relationship(source=Node(id='Phomopsis Leaf Blight', type='Disease', properties={}), target=Node(id='D24', type='Plant', properties={}), type='SUSCEPTIBLE_CULTIVAR', properties={}), Relationship(source=Node(id='Phomopsis Leaf Blight', type='Disease', properties={}), target=Node(id='D99', type='Plant', properties={}), type='SUSCEPTIBLE_CULTIVAR', properties={}), Relationship(source=Node(id='Phomopsis Leaf Blight', type='Disease', properties={}), target=Node(id='Chanee', type='Plant', properties={}), type='SUSCEPTIBLE_CULTIVAR', properties={}), Relationship(source=Node(id='Phomopsis Leaf Blight', type='Disease', properties={}), target=Node(id='Monthong', type='Plant', properties={}), type='MODERATE_SUSCEPTIBILITY', properties={}), Relationship(source=Node(id='Phomopsis Leaf Blight', type='Disease', properties={}), target=Node(id='Ri6', type='Plant', properties={}), type='MODERATE_SUSCEPTIBILITY', properties={}), Relationship(source=Node(id='Phomopsis Leaf Blight', type='Disease', properties={}), target=Node(id='Musang King (D197)', type='Plant', properties={}), type='TOLERANCE', properties={}), Relationship(source=Node(id='Phomopsis Leaf Blight', type='Disease', properties={}), target=Node(id='Southeast Asia', type='Location', properties={}), type='PREVALENT_IN', properties={}), Relationship(source=Node(id='Phomopsis Leaf Blight', type='Disease', properties={}), target=Node(id='Malaysia', type='Location', properties={}), type='PREVALENT_IN', properties={}), Relationship(source=Node(id='Phomopsis Leaf Blight', type='Disease', properties={}), target=Node(id='Philippines', type='Location', properties={}), type='PREVALENT_IN', properties={}), Relationship(source=Node(id='Phomopsis Leaf Blight', type='Disease', properties={}), target=Node(id='Indonesia', type='Location', properties={}), type='PREVALENT_IN', properties={}), Relationship(source=Node(id='Phomopsis Leaf Blight', type='Disease', properties={}), target=Node(id='Mancozeb', type='Chemical', properties={}), type='MANAGED_BY', properties={}), Relationship(source=Node(id='Phomopsis Leaf Blight', type='Disease', properties={}), target=Node(id='Chlorothalonil', type='Chemical', properties={}), type='MANAGED_BY', properties={}), Relationship(source=Node(id='Phomopsis Leaf Blight', type='Disease', properties={}), target=Node(id='Copper Compounds', type='Chemical', properties={}), type='MANAGED_BY', properties={}), Relationship(source=Node(id='Phomopsis Leaf Blight', type='Disease', properties={}), target=Node(id='Propiconazole', type='Chemical', properties={}), type='MANAGED_BY', properties={}), Relationship(source=Node(id='Phomopsis Leaf Blight', type='Disease', properties={}), target=Node(id='Difenoconazole', type='Chemical', properties={}), type='MANAGED_BY', properties={}), Relationship(source=Node(id='Phomopsis Leaf Blight', type='Disease', properties={}), target=Node(id='Tebuconazole', type='Chemical', properties={}), type='MANAGED_BY', properties={}), Relationship(source=Node(id='Phomopsis Leaf Blight', type='Disease', properties={}), target=Node(id='Azoxystrobin', type='Chemical', properties={}), type='MANAGED_BY', properties={}), Relationship(source=Node(id='Phomopsis Leaf Blight', type='Disease', properties={}), target=Node(id='Trichoderma Spp.', type='Biological control', properties={}), type='MANAGED_BY', properties={}), Relationship(source=Node(id='Phomopsis Leaf Blight', type='Disease', properties={}), target=Node(id='Bacillus Subtilis', type='Biological control', properties={}), type='MANAGED_BY', properties={}), Relationship(source=Node(id='Phomopsis Leaf Blight', type='Disease', properties={}), target=Node(id='Lim & Sangchote (2003)', type='Reference', properties={}), type='REFERENCED_IN', properties={}), Relationship(source=Node(id='Phomopsis Leaf Blight', type='Disease', properties={}), target=Node(id='Zeng Et Al. (2022)', type='Reference', properties={}), type='REFERENCED_IN', properties={}), Relationship(source=Node(id='Phomopsis Leaf Blight', type='Disease', properties={}), target=Node(id='Thailand’S Department Of Agriculture', type='Organization', properties={}), type='REFERENCED_IN', properties={}), Relationship(source=Node(id='Phomopsis Leaf Blight', type='Disease', properties={}), target=Node(id='Udayanga Et Al. (2012)', type='Reference', properties={}), type='REFERENCED_IN', properties={}), Relationship(source=Node(id='Phomopsis Leaf Blight', type='Disease', properties={}), target=Node(id='Vietnam’S Plant Protection Department (2023)', type='Organization', properties={}), type='REFERENCED_IN', properties={})]\n"
     ]
    }
   ],
   "source": [
    "allowed_nodes = [\n",
    "    \"Crop\",            # e.g., Durian\n",
    "    \"Variety\",         # e.g., Monthong (D159), Musang King (D197)\n",
    "    \"Disease\",         # e.g., Phomopsis Leaf Blight\n",
    "    \"Pathogen\",        # e.g., Phomopsis durionis\n",
    "    \"Symptom\",         # e.g., Leaf blight, twig dieback, pycnidia on lesions\n",
    "    \"Seasonality\",     # e.g., Rainy season (May–Oct), >85% RH\n",
    "    \"Treatment\",       # e.g., Propiconazole, Mancozeb\n",
    "    \"Prevention\",      # e.g., Canopy pruning, tool sterilization\n",
    "    \"SpreadMethod\",    # e.g., rain splash, contaminated tools\n",
    "    \"RiskFactor\",      # e.g., overhead irrigation, dense canopy\n",
    "    \"Location\",        # e.g., Thailand/Eastern provinces; Vietnam/Mekong Delta\n",
    "    \"Article\"          # bibliographic source\n",
    "]\n",
    "\n",
    "\n",
    "allowed_relationships = [\n",
    "    (\"Crop\",      \"HAS_VARIETY\",     \"Variety\"),\n",
    "    (\"Crop\",      \"AFFECTED_BY\",     \"Disease\"),\n",
    "    (\"Variety\",   \"SUSCEPTIBLE_TO\",  \"Disease\"),          # add property: level ∈ {low, moderate, high}\n",
    "    (\"Disease\",   \"CAUSED_BY\",       \"Pathogen\"),\n",
    "    (\"Disease\",   \"HAS_SYMPTOM\",     \"Symptom\"),\n",
    "    (\"Disease\",   \"PEAKS_DURING\",    \"Seasonality\"),\n",
    "    (\"Disease\",   \"MANAGED_BY\",      \"Treatment\"),\n",
    "    (\"Disease\",   \"PREVENTED_BY\",    \"Prevention\"),\n",
    "    (\"Disease\",   \"SPREADS_VIA\",     \"SpreadMethod\"),\n",
    "    (\"Disease\",   \"RISK_FACTOR\",     \"RiskFactor\"),\n",
    "    (\"Disease\",   \"OCCURS_IN\",       \"Location\"),\n",
    "    (\"Disease\",   \"DOCUMENTED_IN\",   \"Article\")\n",
    "]\n",
    "\n",
    "\n",
    "llm_transformer_tuple = LLMGraphTransformer(\n",
    "    llm=llm,\n",
    "    allowed_nodes=allowed_nodes,\n",
    "    allowed_relationships=allowed_relationships,\n",
    ")\n",
    "graph_documents_filtered = await llm_transformer_tuple.aconvert_to_graph_documents(\n",
    "    documents\n",
    ")"
   ]
  },
  {
   "cell_type": "code",
   "execution_count": 13,
   "id": "ccad918e",
   "metadata": {},
   "outputs": [
    {
     "name": "stdout",
     "output_type": "stream",
     "text": [
      "Nodes (51):[Node(id='Phomopsis Leaf Blight', type='Disease', properties={}), Node(id='Phomopsis Leaf Spot', type='Disease', properties={}), Node(id='Phomopsis Dieback', type='Disease', properties={}), Node(id='Durian', type='Crop', properties={}), Node(id='Phomopsis Durionis Syd. & P. Syd.', type='Pathogen', properties={}), Node(id='Diaporthe Sp.', type='Pathogen', properties={}), Node(id='Small, Water-Soaked Lesions', type='Symptom', properties={}), Node(id='Yellowish-Brown Or Greyish-Brown Necrotic Spots', type='Symptom', properties={}), Node(id='Dark Or Purplish Borders', type='Symptom', properties={}), Node(id='Yellow Halos', type='Symptom', properties={}), Node(id='Blighted Patches', type='Symptom', properties={}), Node(id='Defoliation', type='Symptom', properties={}), Node(id='Reduced Photosynthesis', type='Symptom', properties={}), Node(id='Cankers', type='Symptom', properties={}), Node(id='Dieback Of Shoots', type='Symptom', properties={}), Node(id='Stunted Tree Growth', type='Symptom', properties={}), Node(id='Weakened Trees', type='Symptom', properties={}), Node(id='Reduced Vigor', type='Symptom', properties={}), Node(id='Diminished Fruit Yield And Quality', type='Symptom', properties={}), Node(id='D24', type='Variety', properties={}), Node(id='D99', type='Variety', properties={}), Node(id='Chanee', type='Variety', properties={}), Node(id='Monthong', type='Variety', properties={}), Node(id='Ri6', type='Variety', properties={}), Node(id='Musang King (D197)', type='Variety', properties={}), Node(id='High Humidity Above 85%', type='Riskfactor', properties={}), Node(id='Prolonged Leaf Wetness', type='Riskfactor', properties={}), Node(id='Canopy Density', type='Riskfactor', properties={}), Node(id='Poor Orchard Sanitation', type='Riskfactor', properties={}), Node(id='Unbalanced Fertilization', type='Riskfactor', properties={}), Node(id='Plant Stress', type='Riskfactor', properties={}), Node(id='Rain Splash', type='Spreadmethod', properties={}), Node(id='Wind-Driven Rain', type='Spreadmethod', properties={}), Node(id='Contaminated Tools', type='Spreadmethod', properties={}), Node(id='Infected Planting Material', type='Spreadmethod', properties={}), Node(id='Survival Of The Fungus In Debris And Cankers', type='Spreadmethod', properties={}), Node(id='Rainy Season', type='Seasonality', properties={}), Node(id='Thailand', type='Location', properties={}), Node(id='Vietnam', type='Location', properties={}), Node(id='Malaysia', type='Location', properties={}), Node(id='Philippines', type='Location', properties={}), Node(id='Indonesia', type='Location', properties={}), Node(id='Chemical Fungicides', type='Treatment', properties={}), Node(id='Biological Controls', type='Treatment', properties={}), Node(id='Cultural Practices', type='Treatment', properties={}), Node(id='Preventive Orchard Monitoring And Sanitation', type='Prevention', properties={}), Node(id='Lim & Sangchote (2003)', type='Article', properties={}), Node(id='Zeng Et Al. (2022)', type='Article', properties={}), Node(id='Thailand’S Department Of Agriculture', type='Article', properties={}), Node(id='Udayanga Et Al. (2012)', type='Article', properties={}), Node(id='Vietnam’S Plant Protection Department (2023)', type='Article', properties={})]\n",
      "Relationships (48):[Relationship(source=Node(id='Durian', type='Crop', properties={}), target=Node(id='Phomopsis Leaf Blight', type='Disease', properties={}), type='AFFECTED_BY', properties={}), Relationship(source=Node(id='Phomopsis Leaf Blight', type='Disease', properties={}), target=Node(id='Phomopsis Durionis Syd. & P. Syd.', type='Pathogen', properties={}), type='CAUSED_BY', properties={}), Relationship(source=Node(id='Phomopsis Leaf Blight', type='Disease', properties={}), target=Node(id='Diaporthe Sp.', type='Pathogen', properties={}), type='CAUSED_BY', properties={}), Relationship(source=Node(id='Phomopsis Leaf Blight', type='Disease', properties={}), target=Node(id='Small, Water-Soaked Lesions', type='Symptom', properties={}), type='HAS_SYMPTOM', properties={}), Relationship(source=Node(id='Phomopsis Leaf Blight', type='Disease', properties={}), target=Node(id='Yellowish-Brown Or Greyish-Brown Necrotic Spots', type='Symptom', properties={}), type='HAS_SYMPTOM', properties={}), Relationship(source=Node(id='Phomopsis Leaf Blight', type='Disease', properties={}), target=Node(id='Dark Or Purplish Borders', type='Symptom', properties={}), type='HAS_SYMPTOM', properties={}), Relationship(source=Node(id='Phomopsis Leaf Blight', type='Disease', properties={}), target=Node(id='Yellow Halos', type='Symptom', properties={}), type='HAS_SYMPTOM', properties={}), Relationship(source=Node(id='Phomopsis Leaf Blight', type='Disease', properties={}), target=Node(id='Blighted Patches', type='Symptom', properties={}), type='HAS_SYMPTOM', properties={}), Relationship(source=Node(id='Phomopsis Leaf Blight', type='Disease', properties={}), target=Node(id='Defoliation', type='Symptom', properties={}), type='HAS_SYMPTOM', properties={}), Relationship(source=Node(id='Phomopsis Leaf Blight', type='Disease', properties={}), target=Node(id='Reduced Photosynthesis', type='Symptom', properties={}), type='HAS_SYMPTOM', properties={}), Relationship(source=Node(id='Phomopsis Leaf Blight', type='Disease', properties={}), target=Node(id='Cankers', type='Symptom', properties={}), type='HAS_SYMPTOM', properties={}), Relationship(source=Node(id='Phomopsis Leaf Blight', type='Disease', properties={}), target=Node(id='Dieback Of Shoots', type='Symptom', properties={}), type='HAS_SYMPTOM', properties={}), Relationship(source=Node(id='Phomopsis Leaf Blight', type='Disease', properties={}), target=Node(id='Stunted Tree Growth', type='Symptom', properties={}), type='HAS_SYMPTOM', properties={}), Relationship(source=Node(id='Phomopsis Leaf Blight', type='Disease', properties={}), target=Node(id='Weakened Trees', type='Symptom', properties={}), type='HAS_SYMPTOM', properties={}), Relationship(source=Node(id='Phomopsis Leaf Blight', type='Disease', properties={}), target=Node(id='Reduced Vigor', type='Symptom', properties={}), type='HAS_SYMPTOM', properties={}), Relationship(source=Node(id='Phomopsis Leaf Blight', type='Disease', properties={}), target=Node(id='Diminished Fruit Yield And Quality', type='Symptom', properties={}), type='HAS_SYMPTOM', properties={}), Relationship(source=Node(id='D24', type='Variety', properties={}), target=Node(id='Phomopsis Leaf Blight', type='Disease', properties={}), type='SUSCEPTIBLE_TO', properties={}), Relationship(source=Node(id='D99', type='Variety', properties={}), target=Node(id='Phomopsis Leaf Blight', type='Disease', properties={}), type='SUSCEPTIBLE_TO', properties={}), Relationship(source=Node(id='Chanee', type='Variety', properties={}), target=Node(id='Phomopsis Leaf Blight', type='Disease', properties={}), type='SUSCEPTIBLE_TO', properties={}), Relationship(source=Node(id='Monthong', type='Variety', properties={}), target=Node(id='Phomopsis Leaf Blight', type='Disease', properties={}), type='SUSCEPTIBLE_TO', properties={}), Relationship(source=Node(id='Ri6', type='Variety', properties={}), target=Node(id='Phomopsis Leaf Blight', type='Disease', properties={}), type='SUSCEPTIBLE_TO', properties={}), Relationship(source=Node(id='Musang King (D197)', type='Variety', properties={}), target=Node(id='Phomopsis Leaf Blight', type='Disease', properties={}), type='SUSCEPTIBLE_TO', properties={}), Relationship(source=Node(id='Phomopsis Leaf Blight', type='Disease', properties={}), target=Node(id='High Humidity Above 85%', type='Riskfactor', properties={}), type='RISK_FACTOR', properties={}), Relationship(source=Node(id='Phomopsis Leaf Blight', type='Disease', properties={}), target=Node(id='Prolonged Leaf Wetness', type='Riskfactor', properties={}), type='RISK_FACTOR', properties={}), Relationship(source=Node(id='Phomopsis Leaf Blight', type='Disease', properties={}), target=Node(id='Canopy Density', type='Riskfactor', properties={}), type='RISK_FACTOR', properties={}), Relationship(source=Node(id='Phomopsis Leaf Blight', type='Disease', properties={}), target=Node(id='Poor Orchard Sanitation', type='Riskfactor', properties={}), type='RISK_FACTOR', properties={}), Relationship(source=Node(id='Phomopsis Leaf Blight', type='Disease', properties={}), target=Node(id='Unbalanced Fertilization', type='Riskfactor', properties={}), type='RISK_FACTOR', properties={}), Relationship(source=Node(id='Phomopsis Leaf Blight', type='Disease', properties={}), target=Node(id='Plant Stress', type='Riskfactor', properties={}), type='RISK_FACTOR', properties={}), Relationship(source=Node(id='Phomopsis Leaf Blight', type='Disease', properties={}), target=Node(id='Rain Splash', type='Spreadmethod', properties={}), type='SPREADS_VIA', properties={}), Relationship(source=Node(id='Phomopsis Leaf Blight', type='Disease', properties={}), target=Node(id='Wind-Driven Rain', type='Spreadmethod', properties={}), type='SPREADS_VIA', properties={}), Relationship(source=Node(id='Phomopsis Leaf Blight', type='Disease', properties={}), target=Node(id='Contaminated Tools', type='Spreadmethod', properties={}), type='SPREADS_VIA', properties={}), Relationship(source=Node(id='Phomopsis Leaf Blight', type='Disease', properties={}), target=Node(id='Infected Planting Material', type='Spreadmethod', properties={}), type='SPREADS_VIA', properties={}), Relationship(source=Node(id='Phomopsis Leaf Blight', type='Disease', properties={}), target=Node(id='Survival Of The Fungus In Debris And Cankers', type='Spreadmethod', properties={}), type='SPREADS_VIA', properties={}), Relationship(source=Node(id='Phomopsis Leaf Blight', type='Disease', properties={}), target=Node(id='Rainy Season', type='Seasonality', properties={}), type='PEAKS_DURING', properties={}), Relationship(source=Node(id='Phomopsis Leaf Blight', type='Disease', properties={}), target=Node(id='Thailand', type='Location', properties={}), type='OCCURS_IN', properties={}), Relationship(source=Node(id='Phomopsis Leaf Blight', type='Disease', properties={}), target=Node(id='Vietnam', type='Location', properties={}), type='OCCURS_IN', properties={}), Relationship(source=Node(id='Phomopsis Leaf Blight', type='Disease', properties={}), target=Node(id='Malaysia', type='Location', properties={}), type='OCCURS_IN', properties={}), Relationship(source=Node(id='Phomopsis Leaf Blight', type='Disease', properties={}), target=Node(id='Philippines', type='Location', properties={}), type='OCCURS_IN', properties={}), Relationship(source=Node(id='Phomopsis Leaf Blight', type='Disease', properties={}), target=Node(id='Indonesia', type='Location', properties={}), type='OCCURS_IN', properties={}), Relationship(source=Node(id='Phomopsis Leaf Blight', type='Disease', properties={}), target=Node(id='Chemical Fungicides', type='Treatment', properties={}), type='MANAGED_BY', properties={}), Relationship(source=Node(id='Phomopsis Leaf Blight', type='Disease', properties={}), target=Node(id='Biological Controls', type='Treatment', properties={}), type='MANAGED_BY', properties={}), Relationship(source=Node(id='Phomopsis Leaf Blight', type='Disease', properties={}), target=Node(id='Cultural Practices', type='Treatment', properties={}), type='MANAGED_BY', properties={}), Relationship(source=Node(id='Phomopsis Leaf Blight', type='Disease', properties={}), target=Node(id='Preventive Orchard Monitoring And Sanitation', type='Prevention', properties={}), type='PREVENTED_BY', properties={}), Relationship(source=Node(id='Phomopsis Leaf Blight', type='Disease', properties={}), target=Node(id='Lim & Sangchote (2003)', type='Article', properties={}), type='DOCUMENTED_IN', properties={}), Relationship(source=Node(id='Phomopsis Leaf Blight', type='Disease', properties={}), target=Node(id='Zeng Et Al. (2022)', type='Article', properties={}), type='DOCUMENTED_IN', properties={}), Relationship(source=Node(id='Phomopsis Leaf Blight', type='Disease', properties={}), target=Node(id='Thailand’S Department Of Agriculture', type='Article', properties={}), type='DOCUMENTED_IN', properties={}), Relationship(source=Node(id='Phomopsis Leaf Blight', type='Disease', properties={}), target=Node(id='Udayanga Et Al. (2012)', type='Article', properties={}), type='DOCUMENTED_IN', properties={}), Relationship(source=Node(id='Phomopsis Leaf Blight', type='Disease', properties={}), target=Node(id='Vietnam’S Plant Protection Department (2023)', type='Article', properties={}), type='DOCUMENTED_IN', properties={})]\n"
     ]
    }
   ],
   "source": [
    "print(f\"Nodes ({len(graph_documents_filtered[0].nodes)}):{graph_documents_filtered[0].nodes}\")\n",
    "print(f\"Relationships ({len(graph_documents_filtered[0].relationships)}):{graph_documents_filtered[0].relationships}\")"
   ]
  },
  {
   "cell_type": "code",
   "execution_count": 14,
   "id": "48f8d4f9",
   "metadata": {},
   "outputs": [
    {
     "name": "stdout",
     "output_type": "stream",
     "text": [
      "id='Phomopsis Leaf Blight' type='Disease' properties={}\n",
      "id='Phomopsis Leaf Spot' type='Disease' properties={}\n",
      "id='Phomopsis Dieback' type='Disease' properties={}\n",
      "id='Durian' type='Crop' properties={}\n",
      "id='Phomopsis Durionis Syd. & P. Syd.' type='Pathogen' properties={}\n",
      "id='Diaporthe Sp.' type='Pathogen' properties={}\n",
      "id='Small, Water-Soaked Lesions' type='Symptom' properties={}\n",
      "id='Yellowish-Brown Or Greyish-Brown Necrotic Spots' type='Symptom' properties={}\n",
      "id='Dark Or Purplish Borders' type='Symptom' properties={}\n",
      "id='Yellow Halos' type='Symptom' properties={}\n",
      "id='Blighted Patches' type='Symptom' properties={}\n",
      "id='Defoliation' type='Symptom' properties={}\n",
      "id='Reduced Photosynthesis' type='Symptom' properties={}\n",
      "id='Cankers' type='Symptom' properties={}\n",
      "id='Dieback Of Shoots' type='Symptom' properties={}\n",
      "id='Stunted Tree Growth' type='Symptom' properties={}\n",
      "id='Weakened Trees' type='Symptom' properties={}\n",
      "id='Reduced Vigor' type='Symptom' properties={}\n",
      "id='Diminished Fruit Yield And Quality' type='Symptom' properties={}\n",
      "id='D24' type='Variety' properties={}\n",
      "id='D99' type='Variety' properties={}\n",
      "id='Chanee' type='Variety' properties={}\n",
      "id='Monthong' type='Variety' properties={}\n",
      "id='Ri6' type='Variety' properties={}\n",
      "id='Musang King (D197)' type='Variety' properties={}\n",
      "id='High Humidity Above 85%' type='Riskfactor' properties={}\n",
      "id='Prolonged Leaf Wetness' type='Riskfactor' properties={}\n",
      "id='Canopy Density' type='Riskfactor' properties={}\n",
      "id='Poor Orchard Sanitation' type='Riskfactor' properties={}\n",
      "id='Unbalanced Fertilization' type='Riskfactor' properties={}\n",
      "id='Plant Stress' type='Riskfactor' properties={}\n",
      "id='Rain Splash' type='Spreadmethod' properties={}\n",
      "id='Wind-Driven Rain' type='Spreadmethod' properties={}\n",
      "id='Contaminated Tools' type='Spreadmethod' properties={}\n",
      "id='Infected Planting Material' type='Spreadmethod' properties={}\n",
      "id='Survival Of The Fungus In Debris And Cankers' type='Spreadmethod' properties={}\n",
      "id='Rainy Season' type='Seasonality' properties={}\n",
      "id='Thailand' type='Location' properties={}\n",
      "id='Vietnam' type='Location' properties={}\n",
      "id='Malaysia' type='Location' properties={}\n",
      "id='Philippines' type='Location' properties={}\n",
      "id='Indonesia' type='Location' properties={}\n",
      "id='Chemical Fungicides' type='Treatment' properties={}\n",
      "id='Biological Controls' type='Treatment' properties={}\n",
      "id='Cultural Practices' type='Treatment' properties={}\n",
      "id='Preventive Orchard Monitoring And Sanitation' type='Prevention' properties={}\n",
      "id='Lim & Sangchote (2003)' type='Article' properties={}\n",
      "id='Zeng Et Al. (2022)' type='Article' properties={}\n",
      "id='Thailand’S Department Of Agriculture' type='Article' properties={}\n",
      "id='Udayanga Et Al. (2012)' type='Article' properties={}\n",
      "id='Vietnam’S Plant Protection Department (2023)' type='Article' properties={}\n"
     ]
    }
   ],
   "source": [
    "for node in graph_documents_filtered[0].nodes:\n",
    "    print(node)"
   ]
  },
  {
   "cell_type": "code",
   "execution_count": 15,
   "id": "feeee058",
   "metadata": {},
   "outputs": [
    {
     "name": "stdout",
     "output_type": "stream",
     "text": [
      "source=Node(id='Durian', type='Crop', properties={}) target=Node(id='Phomopsis Leaf Blight', type='Disease', properties={}) type='AFFECTED_BY' properties={}\n",
      "source=Node(id='Phomopsis Leaf Blight', type='Disease', properties={}) target=Node(id='Phomopsis Durionis Syd. & P. Syd.', type='Pathogen', properties={}) type='CAUSED_BY' properties={}\n",
      "source=Node(id='Phomopsis Leaf Blight', type='Disease', properties={}) target=Node(id='Diaporthe Sp.', type='Pathogen', properties={}) type='CAUSED_BY' properties={}\n",
      "source=Node(id='Phomopsis Leaf Blight', type='Disease', properties={}) target=Node(id='Small, Water-Soaked Lesions', type='Symptom', properties={}) type='HAS_SYMPTOM' properties={}\n",
      "source=Node(id='Phomopsis Leaf Blight', type='Disease', properties={}) target=Node(id='Yellowish-Brown Or Greyish-Brown Necrotic Spots', type='Symptom', properties={}) type='HAS_SYMPTOM' properties={}\n",
      "source=Node(id='Phomopsis Leaf Blight', type='Disease', properties={}) target=Node(id='Dark Or Purplish Borders', type='Symptom', properties={}) type='HAS_SYMPTOM' properties={}\n",
      "source=Node(id='Phomopsis Leaf Blight', type='Disease', properties={}) target=Node(id='Yellow Halos', type='Symptom', properties={}) type='HAS_SYMPTOM' properties={}\n",
      "source=Node(id='Phomopsis Leaf Blight', type='Disease', properties={}) target=Node(id='Blighted Patches', type='Symptom', properties={}) type='HAS_SYMPTOM' properties={}\n",
      "source=Node(id='Phomopsis Leaf Blight', type='Disease', properties={}) target=Node(id='Defoliation', type='Symptom', properties={}) type='HAS_SYMPTOM' properties={}\n",
      "source=Node(id='Phomopsis Leaf Blight', type='Disease', properties={}) target=Node(id='Reduced Photosynthesis', type='Symptom', properties={}) type='HAS_SYMPTOM' properties={}\n",
      "source=Node(id='Phomopsis Leaf Blight', type='Disease', properties={}) target=Node(id='Cankers', type='Symptom', properties={}) type='HAS_SYMPTOM' properties={}\n",
      "source=Node(id='Phomopsis Leaf Blight', type='Disease', properties={}) target=Node(id='Dieback Of Shoots', type='Symptom', properties={}) type='HAS_SYMPTOM' properties={}\n",
      "source=Node(id='Phomopsis Leaf Blight', type='Disease', properties={}) target=Node(id='Stunted Tree Growth', type='Symptom', properties={}) type='HAS_SYMPTOM' properties={}\n",
      "source=Node(id='Phomopsis Leaf Blight', type='Disease', properties={}) target=Node(id='Weakened Trees', type='Symptom', properties={}) type='HAS_SYMPTOM' properties={}\n",
      "source=Node(id='Phomopsis Leaf Blight', type='Disease', properties={}) target=Node(id='Reduced Vigor', type='Symptom', properties={}) type='HAS_SYMPTOM' properties={}\n",
      "source=Node(id='Phomopsis Leaf Blight', type='Disease', properties={}) target=Node(id='Diminished Fruit Yield And Quality', type='Symptom', properties={}) type='HAS_SYMPTOM' properties={}\n",
      "source=Node(id='D24', type='Variety', properties={}) target=Node(id='Phomopsis Leaf Blight', type='Disease', properties={}) type='SUSCEPTIBLE_TO' properties={}\n",
      "source=Node(id='D99', type='Variety', properties={}) target=Node(id='Phomopsis Leaf Blight', type='Disease', properties={}) type='SUSCEPTIBLE_TO' properties={}\n",
      "source=Node(id='Chanee', type='Variety', properties={}) target=Node(id='Phomopsis Leaf Blight', type='Disease', properties={}) type='SUSCEPTIBLE_TO' properties={}\n",
      "source=Node(id='Monthong', type='Variety', properties={}) target=Node(id='Phomopsis Leaf Blight', type='Disease', properties={}) type='SUSCEPTIBLE_TO' properties={}\n",
      "source=Node(id='Ri6', type='Variety', properties={}) target=Node(id='Phomopsis Leaf Blight', type='Disease', properties={}) type='SUSCEPTIBLE_TO' properties={}\n",
      "source=Node(id='Musang King (D197)', type='Variety', properties={}) target=Node(id='Phomopsis Leaf Blight', type='Disease', properties={}) type='SUSCEPTIBLE_TO' properties={}\n",
      "source=Node(id='Phomopsis Leaf Blight', type='Disease', properties={}) target=Node(id='High Humidity Above 85%', type='Riskfactor', properties={}) type='RISK_FACTOR' properties={}\n",
      "source=Node(id='Phomopsis Leaf Blight', type='Disease', properties={}) target=Node(id='Prolonged Leaf Wetness', type='Riskfactor', properties={}) type='RISK_FACTOR' properties={}\n",
      "source=Node(id='Phomopsis Leaf Blight', type='Disease', properties={}) target=Node(id='Canopy Density', type='Riskfactor', properties={}) type='RISK_FACTOR' properties={}\n",
      "source=Node(id='Phomopsis Leaf Blight', type='Disease', properties={}) target=Node(id='Poor Orchard Sanitation', type='Riskfactor', properties={}) type='RISK_FACTOR' properties={}\n",
      "source=Node(id='Phomopsis Leaf Blight', type='Disease', properties={}) target=Node(id='Unbalanced Fertilization', type='Riskfactor', properties={}) type='RISK_FACTOR' properties={}\n",
      "source=Node(id='Phomopsis Leaf Blight', type='Disease', properties={}) target=Node(id='Plant Stress', type='Riskfactor', properties={}) type='RISK_FACTOR' properties={}\n",
      "source=Node(id='Phomopsis Leaf Blight', type='Disease', properties={}) target=Node(id='Rain Splash', type='Spreadmethod', properties={}) type='SPREADS_VIA' properties={}\n",
      "source=Node(id='Phomopsis Leaf Blight', type='Disease', properties={}) target=Node(id='Wind-Driven Rain', type='Spreadmethod', properties={}) type='SPREADS_VIA' properties={}\n",
      "source=Node(id='Phomopsis Leaf Blight', type='Disease', properties={}) target=Node(id='Contaminated Tools', type='Spreadmethod', properties={}) type='SPREADS_VIA' properties={}\n",
      "source=Node(id='Phomopsis Leaf Blight', type='Disease', properties={}) target=Node(id='Infected Planting Material', type='Spreadmethod', properties={}) type='SPREADS_VIA' properties={}\n",
      "source=Node(id='Phomopsis Leaf Blight', type='Disease', properties={}) target=Node(id='Survival Of The Fungus In Debris And Cankers', type='Spreadmethod', properties={}) type='SPREADS_VIA' properties={}\n",
      "source=Node(id='Phomopsis Leaf Blight', type='Disease', properties={}) target=Node(id='Rainy Season', type='Seasonality', properties={}) type='PEAKS_DURING' properties={}\n",
      "source=Node(id='Phomopsis Leaf Blight', type='Disease', properties={}) target=Node(id='Thailand', type='Location', properties={}) type='OCCURS_IN' properties={}\n",
      "source=Node(id='Phomopsis Leaf Blight', type='Disease', properties={}) target=Node(id='Vietnam', type='Location', properties={}) type='OCCURS_IN' properties={}\n",
      "source=Node(id='Phomopsis Leaf Blight', type='Disease', properties={}) target=Node(id='Malaysia', type='Location', properties={}) type='OCCURS_IN' properties={}\n",
      "source=Node(id='Phomopsis Leaf Blight', type='Disease', properties={}) target=Node(id='Philippines', type='Location', properties={}) type='OCCURS_IN' properties={}\n",
      "source=Node(id='Phomopsis Leaf Blight', type='Disease', properties={}) target=Node(id='Indonesia', type='Location', properties={}) type='OCCURS_IN' properties={}\n",
      "source=Node(id='Phomopsis Leaf Blight', type='Disease', properties={}) target=Node(id='Chemical Fungicides', type='Treatment', properties={}) type='MANAGED_BY' properties={}\n",
      "source=Node(id='Phomopsis Leaf Blight', type='Disease', properties={}) target=Node(id='Biological Controls', type='Treatment', properties={}) type='MANAGED_BY' properties={}\n",
      "source=Node(id='Phomopsis Leaf Blight', type='Disease', properties={}) target=Node(id='Cultural Practices', type='Treatment', properties={}) type='MANAGED_BY' properties={}\n",
      "source=Node(id='Phomopsis Leaf Blight', type='Disease', properties={}) target=Node(id='Preventive Orchard Monitoring And Sanitation', type='Prevention', properties={}) type='PREVENTED_BY' properties={}\n",
      "source=Node(id='Phomopsis Leaf Blight', type='Disease', properties={}) target=Node(id='Lim & Sangchote (2003)', type='Article', properties={}) type='DOCUMENTED_IN' properties={}\n",
      "source=Node(id='Phomopsis Leaf Blight', type='Disease', properties={}) target=Node(id='Zeng Et Al. (2022)', type='Article', properties={}) type='DOCUMENTED_IN' properties={}\n",
      "source=Node(id='Phomopsis Leaf Blight', type='Disease', properties={}) target=Node(id='Thailand’S Department Of Agriculture', type='Article', properties={}) type='DOCUMENTED_IN' properties={}\n",
      "source=Node(id='Phomopsis Leaf Blight', type='Disease', properties={}) target=Node(id='Udayanga Et Al. (2012)', type='Article', properties={}) type='DOCUMENTED_IN' properties={}\n",
      "source=Node(id='Phomopsis Leaf Blight', type='Disease', properties={}) target=Node(id='Vietnam’S Plant Protection Department (2023)', type='Article', properties={}) type='DOCUMENTED_IN' properties={}\n"
     ]
    }
   ],
   "source": [
    "for rel in graph_documents_filtered[0].relationships:\n",
    "    print(rel)"
   ]
  },
  {
   "cell_type": "code",
   "execution_count": 16,
   "id": "79888e56",
   "metadata": {},
   "outputs": [],
   "source": [
    "graph.add_graph_documents(graph_documents_filtered)"
   ]
  },
  {
   "cell_type": "code",
   "execution_count": null,
   "id": "e0de01b7",
   "metadata": {},
   "outputs": [],
   "source": []
  }
 ],
 "metadata": {
  "kernelspec": {
   "display_name": ".venv",
   "language": "python",
   "name": "python3"
  },
  "language_info": {
   "codemirror_mode": {
    "name": "ipython",
    "version": 3
   },
   "file_extension": ".py",
   "mimetype": "text/x-python",
   "name": "python",
   "nbconvert_exporter": "python",
   "pygments_lexer": "ipython3",
   "version": "3.13.5"
  }
 },
 "nbformat": 4,
 "nbformat_minor": 5
}
